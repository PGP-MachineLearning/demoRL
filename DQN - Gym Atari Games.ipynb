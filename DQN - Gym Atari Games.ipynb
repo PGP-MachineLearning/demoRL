{
  "nbformat": 4,
  "nbformat_minor": 0,
  "metadata": {
    "colab": {
      "provenance": [],
      "collapsed_sections": []
    },
    "kernelspec": {
      "name": "python3",
      "display_name": "Python 3"
    },
    "gpuClass": "standard"
  },
  "cells": [
    {
      "cell_type": "markdown",
      "metadata": {
        "id": "5KbquQTFT4jD"
      },
      "source": [
        "#Demo de TF-Agents para jugar juegos de Atari usando una red DQN\n",
        "\n",
        " Basado en los tutoriales de Tensor Flow: https://www.tensorflow.org/agents/tutorials/2_environments_tutorial\n",
        "\n",
        " Clase Agente especial de:  https://github.com/jeffheaton/t81_558_deep_learning/blob/master/t81_558_class_12_04_atari.ipynb "
      ]
    },
    {
      "cell_type": "code",
      "metadata": {
        "cellView": "form",
        "id": "Qxbe02w0T0ip",
        "colab": {
          "base_uri": "https://localhost:8080/"
        },
        "outputId": "619eb9c2-563d-451a-bc8d-2a5ddf454b43"
      },
      "source": [
        "#@title Instalar Paquete de TF-Agents\n",
        "##!pip install -q tf-agents\n",
        "\n",
        "# usar esta versión para evitar error \n",
        "!pip install tf-agents[reverb]\n",
        "!git clone https://github.com/tensorflow/agents.git\n",
        "!cd agents\n",
        "!git checkout v0.13.0\n",
        "print(\"TF-Agentes instalado.\")"
      ],
      "execution_count": 1,
      "outputs": [
        {
          "output_type": "stream",
          "name": "stdout",
          "text": [
            "Looking in indexes: https://pypi.org/simple, https://us-python.pkg.dev/colab-wheels/public/simple/\n",
            "Requirement already satisfied: tf-agents[reverb] in /usr/local/lib/python3.7/dist-packages (0.14.0)\n",
            "Requirement already satisfied: pillow in /usr/local/lib/python3.7/dist-packages (from tf-agents[reverb]) (7.1.2)\n",
            "Requirement already satisfied: cloudpickle>=1.3 in /usr/local/lib/python3.7/dist-packages (from tf-agents[reverb]) (1.5.0)\n",
            "Requirement already satisfied: wrapt>=1.11.1 in /usr/local/lib/python3.7/dist-packages (from tf-agents[reverb]) (1.14.1)\n",
            "Requirement already satisfied: tensorflow-probability==0.17.0 in /usr/local/lib/python3.7/dist-packages (from tf-agents[reverb]) (0.17.0)\n",
            "Requirement already satisfied: protobuf>=3.11.3 in /usr/local/lib/python3.7/dist-packages (from tf-agents[reverb]) (3.17.3)\n",
            "Requirement already satisfied: gym<=0.23.0,>=0.17.0 in /usr/local/lib/python3.7/dist-packages (from tf-agents[reverb]) (0.23.0)\n",
            "Requirement already satisfied: six>=1.10.0 in /usr/local/lib/python3.7/dist-packages (from tf-agents[reverb]) (1.15.0)\n",
            "Requirement already satisfied: pygame==2.1.0 in /usr/local/lib/python3.7/dist-packages (from tf-agents[reverb]) (2.1.0)\n",
            "Requirement already satisfied: gin-config>=0.4.0 in /usr/local/lib/python3.7/dist-packages (from tf-agents[reverb]) (0.5.0)\n",
            "Requirement already satisfied: typing-extensions>=3.7.4.3 in /usr/local/lib/python3.7/dist-packages (from tf-agents[reverb]) (4.1.1)\n",
            "Requirement already satisfied: absl-py>=0.6.1 in /usr/local/lib/python3.7/dist-packages (from tf-agents[reverb]) (1.2.0)\n",
            "Requirement already satisfied: numpy>=1.13.3 in /usr/local/lib/python3.7/dist-packages (from tf-agents[reverb]) (1.21.6)\n",
            "Requirement already satisfied: rlds in /usr/local/lib/python3.7/dist-packages (from tf-agents[reverb]) (0.1.5)\n",
            "Requirement already satisfied: tensorflow~=2.10.0 in /usr/local/lib/python3.7/dist-packages (from tf-agents[reverb]) (2.10.0)\n",
            "Requirement already satisfied: dm-reverb~=0.9.0 in /usr/local/lib/python3.7/dist-packages (from tf-agents[reverb]) (0.9.0)\n",
            "Requirement already satisfied: decorator in /usr/local/lib/python3.7/dist-packages (from tensorflow-probability==0.17.0->tf-agents[reverb]) (4.4.2)\n",
            "Requirement already satisfied: gast>=0.3.2 in /usr/local/lib/python3.7/dist-packages (from tensorflow-probability==0.17.0->tf-agents[reverb]) (0.4.0)\n",
            "Requirement already satisfied: dm-tree in /usr/local/lib/python3.7/dist-packages (from tensorflow-probability==0.17.0->tf-agents[reverb]) (0.1.7)\n",
            "Requirement already satisfied: portpicker in /usr/local/lib/python3.7/dist-packages (from dm-reverb~=0.9.0->tf-agents[reverb]) (1.3.9)\n",
            "Requirement already satisfied: gym-notices>=0.0.4 in /usr/local/lib/python3.7/dist-packages (from gym<=0.23.0,>=0.17.0->tf-agents[reverb]) (0.0.8)\n",
            "Requirement already satisfied: importlib-metadata>=4.10.0 in /usr/local/lib/python3.7/dist-packages (from gym<=0.23.0,>=0.17.0->tf-agents[reverb]) (4.12.0)\n",
            "Requirement already satisfied: zipp>=0.5 in /usr/local/lib/python3.7/dist-packages (from importlib-metadata>=4.10.0->gym<=0.23.0,>=0.17.0->tf-agents[reverb]) (3.8.1)\n",
            "Requirement already satisfied: grpcio<2.0,>=1.24.3 in /usr/local/lib/python3.7/dist-packages (from tensorflow~=2.10.0->tf-agents[reverb]) (1.48.1)\n",
            "Requirement already satisfied: google-pasta>=0.1.1 in /usr/local/lib/python3.7/dist-packages (from tensorflow~=2.10.0->tf-agents[reverb]) (0.2.0)\n",
            "Requirement already satisfied: keras<2.11,>=2.10.0 in /usr/local/lib/python3.7/dist-packages (from tensorflow~=2.10.0->tf-agents[reverb]) (2.10.0)\n",
            "Requirement already satisfied: tensorboard<2.11,>=2.10 in /usr/local/lib/python3.7/dist-packages (from tensorflow~=2.10.0->tf-agents[reverb]) (2.10.1)\n",
            "Requirement already satisfied: libclang>=13.0.0 in /usr/local/lib/python3.7/dist-packages (from tensorflow~=2.10.0->tf-agents[reverb]) (14.0.6)\n",
            "Requirement already satisfied: h5py>=2.9.0 in /usr/local/lib/python3.7/dist-packages (from tensorflow~=2.10.0->tf-agents[reverb]) (3.1.0)\n",
            "Requirement already satisfied: tensorflow-estimator<2.11,>=2.10.0 in /usr/local/lib/python3.7/dist-packages (from tensorflow~=2.10.0->tf-agents[reverb]) (2.10.0)\n",
            "Requirement already satisfied: opt-einsum>=2.3.2 in /usr/local/lib/python3.7/dist-packages (from tensorflow~=2.10.0->tf-agents[reverb]) (3.3.0)\n",
            "Requirement already satisfied: termcolor>=1.1.0 in /usr/local/lib/python3.7/dist-packages (from tensorflow~=2.10.0->tf-agents[reverb]) (1.1.0)\n",
            "Requirement already satisfied: astunparse>=1.6.0 in /usr/local/lib/python3.7/dist-packages (from tensorflow~=2.10.0->tf-agents[reverb]) (1.6.3)\n",
            "Requirement already satisfied: keras-preprocessing>=1.1.1 in /usr/local/lib/python3.7/dist-packages (from tensorflow~=2.10.0->tf-agents[reverb]) (1.1.2)\n",
            "Requirement already satisfied: tensorflow-io-gcs-filesystem>=0.23.1 in /usr/local/lib/python3.7/dist-packages (from tensorflow~=2.10.0->tf-agents[reverb]) (0.26.0)\n",
            "Requirement already satisfied: packaging in /usr/local/lib/python3.7/dist-packages (from tensorflow~=2.10.0->tf-agents[reverb]) (21.3)\n",
            "Requirement already satisfied: flatbuffers>=2.0 in /usr/local/lib/python3.7/dist-packages (from tensorflow~=2.10.0->tf-agents[reverb]) (2.0.7)\n",
            "Requirement already satisfied: setuptools in /usr/local/lib/python3.7/dist-packages (from tensorflow~=2.10.0->tf-agents[reverb]) (57.4.0)\n",
            "Requirement already satisfied: wheel<1.0,>=0.23.0 in /usr/local/lib/python3.7/dist-packages (from astunparse>=1.6.0->tensorflow~=2.10.0->tf-agents[reverb]) (0.37.1)\n",
            "Requirement already satisfied: cached-property in /usr/local/lib/python3.7/dist-packages (from h5py>=2.9.0->tensorflow~=2.10.0->tf-agents[reverb]) (1.5.2)\n",
            "Requirement already satisfied: tensorboard-plugin-wit>=1.6.0 in /usr/local/lib/python3.7/dist-packages (from tensorboard<2.11,>=2.10->tensorflow~=2.10.0->tf-agents[reverb]) (1.8.1)\n",
            "Requirement already satisfied: tensorboard-data-server<0.7.0,>=0.6.0 in /usr/local/lib/python3.7/dist-packages (from tensorboard<2.11,>=2.10->tensorflow~=2.10.0->tf-agents[reverb]) (0.6.1)\n",
            "Requirement already satisfied: markdown>=2.6.8 in /usr/local/lib/python3.7/dist-packages (from tensorboard<2.11,>=2.10->tensorflow~=2.10.0->tf-agents[reverb]) (3.4.1)\n",
            "Requirement already satisfied: werkzeug>=1.0.1 in /usr/local/lib/python3.7/dist-packages (from tensorboard<2.11,>=2.10->tensorflow~=2.10.0->tf-agents[reverb]) (1.0.1)\n",
            "Requirement already satisfied: requests<3,>=2.21.0 in /usr/local/lib/python3.7/dist-packages (from tensorboard<2.11,>=2.10->tensorflow~=2.10.0->tf-agents[reverb]) (2.23.0)\n",
            "Requirement already satisfied: google-auth-oauthlib<0.5,>=0.4.1 in /usr/local/lib/python3.7/dist-packages (from tensorboard<2.11,>=2.10->tensorflow~=2.10.0->tf-agents[reverb]) (0.4.6)\n",
            "Requirement already satisfied: google-auth<3,>=1.6.3 in /usr/local/lib/python3.7/dist-packages (from tensorboard<2.11,>=2.10->tensorflow~=2.10.0->tf-agents[reverb]) (1.35.0)\n",
            "Requirement already satisfied: rsa<5,>=3.1.4 in /usr/local/lib/python3.7/dist-packages (from google-auth<3,>=1.6.3->tensorboard<2.11,>=2.10->tensorflow~=2.10.0->tf-agents[reverb]) (4.9)\n",
            "Requirement already satisfied: pyasn1-modules>=0.2.1 in /usr/local/lib/python3.7/dist-packages (from google-auth<3,>=1.6.3->tensorboard<2.11,>=2.10->tensorflow~=2.10.0->tf-agents[reverb]) (0.2.8)\n",
            "Requirement already satisfied: cachetools<5.0,>=2.0.0 in /usr/local/lib/python3.7/dist-packages (from google-auth<3,>=1.6.3->tensorboard<2.11,>=2.10->tensorflow~=2.10.0->tf-agents[reverb]) (4.2.4)\n",
            "Requirement already satisfied: requests-oauthlib>=0.7.0 in /usr/local/lib/python3.7/dist-packages (from google-auth-oauthlib<0.5,>=0.4.1->tensorboard<2.11,>=2.10->tensorflow~=2.10.0->tf-agents[reverb]) (1.3.1)\n",
            "Requirement already satisfied: pyasn1<0.5.0,>=0.4.6 in /usr/local/lib/python3.7/dist-packages (from pyasn1-modules>=0.2.1->google-auth<3,>=1.6.3->tensorboard<2.11,>=2.10->tensorflow~=2.10.0->tf-agents[reverb]) (0.4.8)\n",
            "Requirement already satisfied: urllib3!=1.25.0,!=1.25.1,<1.26,>=1.21.1 in /usr/local/lib/python3.7/dist-packages (from requests<3,>=2.21.0->tensorboard<2.11,>=2.10->tensorflow~=2.10.0->tf-agents[reverb]) (1.24.3)\n",
            "Requirement already satisfied: idna<3,>=2.5 in /usr/local/lib/python3.7/dist-packages (from requests<3,>=2.21.0->tensorboard<2.11,>=2.10->tensorflow~=2.10.0->tf-agents[reverb]) (2.10)\n",
            "Requirement already satisfied: certifi>=2017.4.17 in /usr/local/lib/python3.7/dist-packages (from requests<3,>=2.21.0->tensorboard<2.11,>=2.10->tensorflow~=2.10.0->tf-agents[reverb]) (2022.6.15)\n",
            "Requirement already satisfied: chardet<4,>=3.0.2 in /usr/local/lib/python3.7/dist-packages (from requests<3,>=2.21.0->tensorboard<2.11,>=2.10->tensorflow~=2.10.0->tf-agents[reverb]) (3.0.4)\n",
            "Requirement already satisfied: oauthlib>=3.0.0 in /usr/local/lib/python3.7/dist-packages (from requests-oauthlib>=0.7.0->google-auth-oauthlib<0.5,>=0.4.1->tensorboard<2.11,>=2.10->tensorflow~=2.10.0->tf-agents[reverb]) (3.2.0)\n",
            "Requirement already satisfied: pyparsing!=3.0.5,>=2.0.2 in /usr/local/lib/python3.7/dist-packages (from packaging->tensorflow~=2.10.0->tf-agents[reverb]) (3.0.9)\n",
            "fatal: destination path 'agents' already exists and is not an empty directory.\n",
            "fatal: not a git repository (or any of the parent directories): .git\n",
            "TF-Agentes instalado.\n"
          ]
        }
      ]
    },
    {
      "cell_type": "code",
      "source": [
        "#@title Instalar Paquetes para acceder a Atari Gym\n",
        "## Opción 1: bajar ROMs ade http://www.atarimania.com/rom_collection_archive_atari_2600_roms.html\n",
        "#!wget http://www.atarimania.com/roms/Roms.rar\n",
        "#!mkdir /content/ROM/\n",
        "#!unrar e /content/Roms.rar /content/ROM/\n",
        "#!python -m atari_py.import_roms /content/ROM/\n",
        "\n",
        "## Opción 2: más sencilla\n",
        "###%pip install -U gym>=0.21.0\n",
        "%pip install -U gym[atari,accept-rom-license]"
      ],
      "metadata": {
        "cellView": "form",
        "id": "0rB1g-ioscoR",
        "colab": {
          "base_uri": "https://localhost:8080/"
        },
        "outputId": "282debcf-8d46-4f0e-b043-f42a89844ee8"
      },
      "execution_count": 2,
      "outputs": [
        {
          "output_type": "stream",
          "name": "stdout",
          "text": [
            "Looking in indexes: https://pypi.org/simple, https://us-python.pkg.dev/colab-wheels/public/simple/\n",
            "Requirement already satisfied: gym[accept-rom-license,atari] in /usr/local/lib/python3.7/dist-packages (0.23.0)\n",
            "Requirement already satisfied: numpy>=1.18.0 in /usr/local/lib/python3.7/dist-packages (from gym[accept-rom-license,atari]) (1.21.6)\n",
            "Requirement already satisfied: importlib-metadata>=4.10.0 in /usr/local/lib/python3.7/dist-packages (from gym[accept-rom-license,atari]) (4.12.0)\n",
            "Requirement already satisfied: gym-notices>=0.0.4 in /usr/local/lib/python3.7/dist-packages (from gym[accept-rom-license,atari]) (0.0.8)\n",
            "Requirement already satisfied: cloudpickle>=1.2.0 in /usr/local/lib/python3.7/dist-packages (from gym[accept-rom-license,atari]) (1.5.0)\n",
            "Requirement already satisfied: autorom[accept-rom-license]~=0.4.2 in /usr/local/lib/python3.7/dist-packages (from gym[accept-rom-license,atari]) (0.4.2)\n",
            "Requirement already satisfied: ale-py~=0.7.4 in /usr/local/lib/python3.7/dist-packages (from gym[accept-rom-license,atari]) (0.7.5)\n",
            "Requirement already satisfied: importlib-resources in /usr/local/lib/python3.7/dist-packages (from ale-py~=0.7.4->gym[accept-rom-license,atari]) (5.9.0)\n",
            "Requirement already satisfied: requests in /usr/local/lib/python3.7/dist-packages (from autorom[accept-rom-license]~=0.4.2->gym[accept-rom-license,atari]) (2.23.0)\n",
            "Requirement already satisfied: click in /usr/local/lib/python3.7/dist-packages (from autorom[accept-rom-license]~=0.4.2->gym[accept-rom-license,atari]) (7.1.2)\n",
            "Requirement already satisfied: tqdm in /usr/local/lib/python3.7/dist-packages (from autorom[accept-rom-license]~=0.4.2->gym[accept-rom-license,atari]) (4.64.1)\n",
            "Requirement already satisfied: AutoROM.accept-rom-license in /usr/local/lib/python3.7/dist-packages (from autorom[accept-rom-license]~=0.4.2->gym[accept-rom-license,atari]) (0.4.2)\n",
            "Requirement already satisfied: typing-extensions>=3.6.4 in /usr/local/lib/python3.7/dist-packages (from importlib-metadata>=4.10.0->gym[accept-rom-license,atari]) (4.1.1)\n",
            "Requirement already satisfied: zipp>=0.5 in /usr/local/lib/python3.7/dist-packages (from importlib-metadata>=4.10.0->gym[accept-rom-license,atari]) (3.8.1)\n",
            "Requirement already satisfied: urllib3!=1.25.0,!=1.25.1,<1.26,>=1.21.1 in /usr/local/lib/python3.7/dist-packages (from requests->autorom[accept-rom-license]~=0.4.2->gym[accept-rom-license,atari]) (1.24.3)\n",
            "Requirement already satisfied: chardet<4,>=3.0.2 in /usr/local/lib/python3.7/dist-packages (from requests->autorom[accept-rom-license]~=0.4.2->gym[accept-rom-license,atari]) (3.0.4)\n",
            "Requirement already satisfied: certifi>=2017.4.17 in /usr/local/lib/python3.7/dist-packages (from requests->autorom[accept-rom-license]~=0.4.2->gym[accept-rom-license,atari]) (2022.6.15)\n",
            "Requirement already satisfied: idna<3,>=2.5 in /usr/local/lib/python3.7/dist-packages (from requests->autorom[accept-rom-license]~=0.4.2->gym[accept-rom-license,atari]) (2.10)\n"
          ]
        }
      ]
    },
    {
      "cell_type": "code",
      "source": [
        "#@title Instalar Paquetes para visualizar juegos de Atari \n",
        "!sudo apt-get update\n",
        "!sudo apt-get install -y xvfb ffmpeg freeglut3-dev\n",
        "!pip install 'imageio==2.4.0'\n",
        "!pip install pyvirtualdisplay\n",
        "!pip install pyglet\n"
      ],
      "metadata": {
        "cellView": "form",
        "id": "WOuRKArWfH6C",
        "colab": {
          "base_uri": "https://localhost:8080/"
        },
        "outputId": "87583eb2-e054-4805-d3a3-e88f7dc3a529"
      },
      "execution_count": 3,
      "outputs": [
        {
          "output_type": "stream",
          "name": "stdout",
          "text": [
            "\r0% [Working]\r            \rHit:1 http://security.ubuntu.com/ubuntu bionic-security InRelease\n",
            "\r0% [Waiting for headers] [Connected to cloud.r-project.org (65.8.178.91)] [Conn\r0% [1 InRelease gpgv 88.7 kB] [Waiting for headers] [Connected to cloud.r-proje\r                                                                               \rHit:2 http://archive.ubuntu.com/ubuntu bionic InRelease\n",
            "\r0% [1 InRelease gpgv 88.7 kB] [Waiting for headers] [Connected to cloud.r-proje\r                                                                               \rHit:3 http://archive.ubuntu.com/ubuntu bionic-updates InRelease\n",
            "\r0% [1 InRelease gpgv 88.7 kB] [Waiting for headers] [Waiting for headers] [Wait\r                                                                               \rHit:4 https://cloud.r-project.org/bin/linux/ubuntu bionic-cran40/ InRelease\n",
            "\r0% [1 InRelease gpgv 88.7 kB] [Waiting for headers] [Waiting for headers] [Wait\r                                                                               \rHit:5 http://archive.ubuntu.com/ubuntu bionic-backports InRelease\n",
            "Hit:6 http://ppa.launchpad.net/c2d4u.team/c2d4u4.0+/ubuntu bionic InRelease\n",
            "Ign:7 https://developer.download.nvidia.com/compute/machine-learning/repos/ubuntu1804/x86_64  InRelease\n",
            "Hit:8 https://developer.download.nvidia.com/compute/cuda/repos/ubuntu1804/x86_64  InRelease\n",
            "Hit:9 https://developer.download.nvidia.com/compute/machine-learning/repos/ubuntu1804/x86_64  Release\n",
            "Hit:10 http://ppa.launchpad.net/cran/libgit2/ubuntu bionic InRelease\n",
            "Hit:11 http://ppa.launchpad.net/deadsnakes/ppa/ubuntu bionic InRelease\n",
            "Hit:12 http://ppa.launchpad.net/graphics-drivers/ppa/ubuntu bionic InRelease\n",
            "Reading package lists... Done\n",
            "Reading package lists... Done\n",
            "Building dependency tree       \n",
            "Reading state information... Done\n",
            "freeglut3-dev is already the newest version (2.8.1-3).\n",
            "ffmpeg is already the newest version (7:3.4.11-0ubuntu0.1).\n",
            "xvfb is already the newest version (2:1.19.6-1ubuntu4.11).\n",
            "The following package was automatically installed and is no longer required:\n",
            "  libnvidia-common-460\n",
            "Use 'sudo apt autoremove' to remove it.\n",
            "0 upgraded, 0 newly installed, 0 to remove and 32 not upgraded.\n",
            "Looking in indexes: https://pypi.org/simple, https://us-python.pkg.dev/colab-wheels/public/simple/\n",
            "Requirement already satisfied: imageio==2.4.0 in /usr/local/lib/python3.7/dist-packages (2.4.0)\n",
            "Requirement already satisfied: numpy in /usr/local/lib/python3.7/dist-packages (from imageio==2.4.0) (1.21.6)\n",
            "Requirement already satisfied: pillow in /usr/local/lib/python3.7/dist-packages (from imageio==2.4.0) (7.1.2)\n",
            "Looking in indexes: https://pypi.org/simple, https://us-python.pkg.dev/colab-wheels/public/simple/\n",
            "Requirement already satisfied: pyvirtualdisplay in /usr/local/lib/python3.7/dist-packages (3.0)\n",
            "Looking in indexes: https://pypi.org/simple, https://us-python.pkg.dev/colab-wheels/public/simple/\n",
            "Requirement already satisfied: pyglet in /usr/local/lib/python3.7/dist-packages (1.5.27)\n"
          ]
        }
      ]
    },
    {
      "cell_type": "code",
      "metadata": {
        "cellView": "form",
        "id": "wJl4YsniURev",
        "colab": {
          "base_uri": "https://localhost:8080/"
        },
        "outputId": "b554313f-883e-4916-d66c-979baa9207dc"
      },
      "source": [
        "#@title Cargar Librerías\n",
        "from __future__ import absolute_import\n",
        "from __future__ import division\n",
        "from __future__ import print_function\n",
        "\n",
        "import abc\n",
        "import tensorflow as tf\n",
        "import numpy as np\n",
        "import matplotlib\n",
        "import matplotlib.pyplot as plt\n",
        "from random import randint\n",
        "\n",
        "import random\n",
        "import pandas as pd\n",
        "\n",
        "from tf_agents.environments import py_environment\n",
        "from tf_agents.environments import tf_py_environment\n",
        "\n",
        "from tf_agents.environments import utils\n",
        "from tf_agents.specs import array_spec\n",
        "\n",
        "from tf_agents.policies import TFPolicy\n",
        "from tf_agents.policies import random_tf_policy\n",
        "\n",
        "from tf_agents.trajectories import time_step as ts\n",
        "\n",
        "from tf_agents.agents.dqn import dqn_agent\n",
        "from tf_agents.agents import CategoricalDqnAgent\n",
        "from tf_agents.networks import q_network, categorical_q_network\n",
        "from tf_agents.utils import common\n",
        "\n",
        "from tf_agents.replay_buffers import tf_uniform_replay_buffer\n",
        "from tf_agents.trajectories import trajectory\n",
        "\n",
        "tf.compat.v1.enable_v2_behavior()\n",
        "\n",
        "import warnings\n",
        "warnings.filterwarnings(\"ignore\", category=DeprecationWarning) \n",
        "\n",
        "print(\"Librerías cargadas.\")"
      ],
      "execution_count": 4,
      "outputs": [
        {
          "output_type": "stream",
          "name": "stdout",
          "text": [
            "Librerías cargadas.\n"
          ]
        }
      ]
    },
    {
      "cell_type": "markdown",
      "source": [
        "## Entorno para Juego de Atari"
      ],
      "metadata": {
        "id": "TilJ4dT4SdtK"
      }
    },
    {
      "cell_type": "code",
      "source": [
        "#@title Selecciona el juego de Atari\n",
        "seleccionaJuego = \"Pong\" #@param [\"Pong\", \"Freeway\", \"Enduro\", \"Asteroids\", \"Breakout\", \"Space Invaders\"]\n",
        "#@markdown Ver informacion en https://www.gymlibrary.dev/environments/atari/complete_list/\n",
        "tipoObsTS = \"Game RAM\" #@param [\"Game RAM\", \"RGB Screen\", \"Grayscale Screen\"]\n",
        "\n",
        "# selecciona juego\n",
        "if seleccionaJuego == \"Freeway\":\n",
        "  gym_env_name = 'ALE/Freeway-v5'\n",
        "elif seleccionaJuego == \"Enduro\":\n",
        "  gym_env_name = 'ALE/Enduro-v5'\n",
        "elif seleccionaJuego == \"Pong\":\n",
        "  gym_env_name = 'ALE/Pong-v5'\n",
        "elif seleccionaJuego == \"Asteroids\":\n",
        "  gym_env_name = 'ALE/Asteroids-v5'\n",
        "elif seleccionaJuego == \"Breakout\":\n",
        "  gym_env_name = 'ALE/Breakout-v5'\n",
        "elif seleccionaJuego == \"Space Invaders\":\n",
        "  gym_env_name = 'ALE/SpaceInvaders-v5'\n",
        "else:\n",
        "  raise ValueError(\"No se puede defnir gym_env_name!!!\")\n",
        "\n",
        "# determina tipo de OBS\n",
        "if tipoObsTS == \"Game RAM\":\n",
        "  obsType = 'ram'\n",
        "elif tipoObsTS == \"RGB Screen\":\n",
        "  obsType = 'rgb'\n",
        "elif tipoObsTS == \"Grayscale Screen\":\n",
        "  obsType = 'grayscale'\n",
        "else:\n",
        "  raise ValueError(\"No se puede defnir obsType!!!\")  \n",
        "\n",
        "# librerías especiales\n",
        "import pyvirtualdisplay\n",
        "from tf_agents.environments import suite_gym\n",
        "import PIL.Image\n",
        "import base64\n",
        "import imageio\n",
        "import IPython\n",
        "import os\n",
        "import time\n",
        "\n",
        "# Set up a virtual display for rendering OpenAI gym environments.\n",
        "display = pyvirtualdisplay.Display(visible=0, size=(1400, 900)).start()\n",
        "\n",
        "# funciones auxiliares para mostrar \n",
        "def embed_mp4(filename):\n",
        "  \"\"\"Embeds an mp4 file in the notebook.\"\"\"\n",
        "  video = open(filename,'rb').read()\n",
        "  b64 = base64.b64encode(video)\n",
        "  tag = '''\n",
        "  <div align=\"middle\">\n",
        "  <video width=\"640\" height=\"480\" controls>\n",
        "    <source src=\"data:video/mp4;base64,{0}\" type=\"video/mp4\">\n",
        "  Your browser does not support the video tag.\n",
        "  </video></div>'''.format(b64.decode())\n",
        "  return IPython.display.HTML(tag)\n",
        "\n",
        "\n",
        "def generar_animacion_policy(env, envpy, policy, filename, mostrarRecompensa=True, num_episodes=1, fps=32):\n",
        "  filename = filename + \".mp4\"\n",
        "  with imageio.get_writer(filename, fps=fps) as video:\n",
        "    for i in range(num_episodes):\n",
        "      if num_episodes > 1:\n",
        "        print(\"Generando episodio \" + str(i+1) + \"...\")\n",
        "      else:\n",
        "        print(\"Generando...\")\n",
        "      # inicia entorno\n",
        "      time_step = env.reset()\n",
        "      video.append_data(envpy.render())\n",
        "      sumR = 0.00\n",
        "      while not time_step.is_last():\n",
        "        # hace jugar\n",
        "        action_step = policy.action(time_step)\n",
        "        time_step = env.step(action_step.action)\n",
        "        sumR += time_step.reward.numpy()[0]\n",
        "        video.append_data(envpy.render())\n",
        "      # muestra recompensa\n",
        "      if mostrarRecompensa:\n",
        "        rFinal = time_step.reward.numpy()[0]\n",
        "        if num_episodes > 1:\n",
        "          print(\"Recompensa Acumulada del episodio \" + str(i+1) + \": \", sumR)\n",
        "          print(\"Recompensa Final del episodio \" + str(i+1) + \": \", rFinal)\n",
        "        else:\n",
        "          print(\"Recompensa Acumulada: \", sumR)\n",
        "          print(\"Recompensa Final: \", rFinal)\n",
        "    video.close()\n",
        "    ##while not os.path.exists(filename):\n",
        "    ##  time.sleep(1)\n",
        "  return embed_mp4(filename)\n",
        "\n",
        "# crea entornos\n",
        "train_py_env = suite_gym.load(gym_env_name, gym_kwargs={'obs_type':obsType,'render_mode':'human'})\n",
        "eval_py_env = suite_gym.load(gym_env_name, gym_kwargs={'obs_type':obsType,'render_mode':'human'})\n",
        "train_py_env.metadata['render_fps'] = 30\n",
        "eval_py_env.metadata['render_fps'] = 30\n",
        "ori_train_py_env = None\n",
        "ori_eval_py_env = None\n",
        "\n",
        "# Definir wrapper para convertir en entornos TF\n",
        "train_env = tf_py_environment.TFPyEnvironment(train_py_env)\n",
        "eval_env = tf_py_environment.TFPyEnvironment(eval_py_env)\n",
        "\n",
        "# define política al azar independiente del Agente\n",
        "random_policy = random_tf_policy.RandomTFPolicy(train_env.time_step_spec(), \n",
        "                                                train_env.action_spec())\n",
        "\n",
        "# muesta información del entorno\n",
        "print(\"\\n\")\n",
        "print('- Entorno: ', gym_env_name)\n",
        "print(\"\\n\")\n",
        "print('- Time Step Spec:')\n",
        "print(\"  \", eval_env.time_step_spec())\n",
        "print(\"\\n\")\n",
        "print('-Action Spec:')\n",
        "print(\"  \", eval_env.action_spec())\n",
        "print(\"\\n\")\n",
        "\n",
        "# muestra pantalla ejemplo\n",
        "eval_env.reset()\n",
        "PIL.Image.fromarray(eval_py_env.render())"
      ],
      "metadata": {
        "id": "-jibiVExeuhR",
        "cellView": "form",
        "colab": {
          "base_uri": "https://localhost:8080/",
          "height": 522
        },
        "outputId": "9623fe6d-3618-41e3-de0b-aa5fabafa53b"
      },
      "execution_count": 5,
      "outputs": [
        {
          "output_type": "stream",
          "name": "stdout",
          "text": [
            "\n",
            "\n",
            "- Entorno:  ALE/Pong-v5\n",
            "\n",
            "\n",
            "- Time Step Spec:\n",
            "   TimeStep(\n",
            "{'discount': BoundedTensorSpec(shape=(), dtype=tf.float32, name='discount', minimum=array(0., dtype=float32), maximum=array(1., dtype=float32)),\n",
            " 'observation': BoundedTensorSpec(shape=(128,), dtype=tf.uint8, name='observation', minimum=array(0, dtype=uint8), maximum=array(255, dtype=uint8)),\n",
            " 'reward': TensorSpec(shape=(), dtype=tf.float32, name='reward'),\n",
            " 'step_type': TensorSpec(shape=(), dtype=tf.int32, name='step_type')})\n",
            "\n",
            "\n",
            "-Action Spec:\n",
            "   BoundedTensorSpec(shape=(), dtype=tf.int64, name='action', minimum=array(0), maximum=array(5))\n",
            "\n",
            "\n"
          ]
        },
        {
          "output_type": "execute_result",
          "data": {
            "text/plain": [
              "<PIL.Image.Image image mode=RGB size=160x210 at 0x7FF22BCD6E50>"
            ],
            "image/png": "[encoded data removed]"
          },
          "metadata": {},
          "execution_count": 5
        }
      ]
    },
    {
      "cell_type": "code",
      "source": [
        "#@title Ejemplo de juego jugando al Azar\n",
        "generar_animacion_policy(eval_env, eval_py_env, random_policy, \"random_policy\", True, 1)"
      ],
      "metadata": {
        "id": "mPf8a-KIj42z",
        "cellView": "form",
        "colab": {
          "base_uri": "https://localhost:8080/",
          "height": 591
        },
        "outputId": "3a7ddd28-6e12-4c29-ecd3-41e834b37a9c"
      },
      "execution_count": 6,
      "outputs": [
        {
          "output_type": "stream",
          "name": "stderr",
          "text": [
            "WARNING:root:IMAGEIO FFMPEG_WRITER WARNING: input image is not divisible by macro_block_size=16, resizing from (210, 160) to (224, 160) to ensure video compatibility with most codecs and players. To prevent resizing, make your input image divisible by the macro_block_size or set the macro_block_size to None (risking incompatibility). You may also see a FFMPEG warning concerning speedloss due to data not being aligned.\n"
          ]
        },
        {
          "output_type": "stream",
          "name": "stdout",
          "text": [
            "Generando...\n",
            "Recompensa Acumulada:  -21.0\n",
            "Recompensa Final:  0.0\n"
          ]
        },
        {
          "output_type": "execute_result",
          "data": {
            "text/plain": [
              "<IPython.core.display.HTML object>"
            ],
            "text/html": [
              "\n",
              "  <div align=\"middle\">\n",
              "  <video width=\"640\" height=\"480\" controls>\n",
              "    <source src=\"data:video/mp4;base64,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\" type=\"video/mp4\">\n",
              "  Your browser does not support the video tag.\n",
              "  </video></div>"
            ]
          },
          "metadata": {},
          "execution_count": 6
        }
      ]
    },
    {
      "cell_type": "markdown",
      "source": [
        "##DQN"
      ],
      "metadata": {
        "id": "3iip7y2pJI-b"
      }
    },
    {
      "cell_type": "code",
      "metadata": {
        "cellView": "form",
        "id": "diEOEg3JaMHa",
        "colab": {
          "base_uri": "https://localhost:8080/"
        },
        "outputId": "d9dc999d-3a32-4762-80a0-ef57a14d99c2"
      },
      "source": [
        "#@title Definir el Agente tipo DQN\n",
        "entrenar_DQN = True # @param {type:\"boolean\"}\n",
        "DQNpolicy = None\n",
        "\n",
        "if entrenar_DQN:\n",
        "  tipo_agente = \"DQN Categorico (C51)\" #@param [\"DQN\", \"DQN Categorico (C51)\", \"AtariCategoricalQNetwork\"]\n",
        "  learning_rate = 1e-3  # @param {type:\"number\"}\n",
        "  cant_neuronas_ocultas = \"250, 100, 25\" # @param {type:\"string\"}\n",
        "  DQNCat_num_atoms = 51  # param {type:\"integer\"}\n",
        "  # controla cantidad de atoms para DQN Cat\n",
        "  if DQNCat_num_atoms <= 1:\n",
        "    DQNCat_num_atoms = 51\n",
        "\n",
        "  if obsType == 'ram':\n",
        "    # como es un vector no se usa CNN\n",
        "    DQN_agregar_capa_cnn = False\n",
        "  else:\n",
        "    # como es una matriz/imagen se usa CNN\n",
        "    DQN_agregar_capa_cnn = True\n",
        "\n",
        "  # Define cantidad de neuronas ocultas para RNA-Q\n",
        "  hidden_layers = []\n",
        "  for val in cant_neuronas_ocultas.split(','):\n",
        "    if  int(val) < 1:\n",
        "      hidden_layers.append( 10 )\n",
        "    else:\n",
        "      hidden_layers.append( int(val) )\n",
        "  fc_layer_params = tuple(hidden_layers, )\n",
        "\n",
        "  #define las capas convolutional\n",
        "  if DQN_agregar_capa_cnn:    \n",
        "    CNN_preprocessing_layers = tf.keras.models.Sequential(\n",
        "                                        [tf.keras.layers.LayerNormalization(axis=1),\n",
        "                                        tf.keras.layers.Conv2D(2, 2, activation='relu', padding=\"same\"),\n",
        "                                        tf.keras.layers.MaxPooling2D(pool_size=(2, 2)),\n",
        "                                        tf.keras.layers.Flatten()])\n",
        "  else:\n",
        "    CNN_preprocessing_layers = None\n",
        "\n",
        "\n",
        "  if tipo_agente==\"DQN\":\n",
        "\n",
        "\n",
        "    # Define RNA-Q\n",
        "    q_net = q_network.QNetwork(\n",
        "        train_env.observation_spec(),\n",
        "        train_env.action_spec(),\n",
        "        preprocessing_layers=CNN_preprocessing_layers,\n",
        "        fc_layer_params=fc_layer_params)\n",
        "\n",
        "    optimizer = tf.compat.v1.train.AdamOptimizer(learning_rate=learning_rate)\n",
        "\n",
        "    train_step_counter = tf.Variable(0)\n",
        "\n",
        "    # Define el agente de tipo Q\n",
        "    ag = dqn_agent.DqnAgent(\n",
        "        train_env.time_step_spec(),\n",
        "        train_env.action_spec(),\n",
        "        q_network=q_net,\n",
        "        optimizer=optimizer,\n",
        "        td_errors_loss_fn=common.element_wise_squared_loss,\n",
        "        train_step_counter=train_step_counter)\n",
        "\n",
        "    ag.initialize()\n",
        "\n",
        "    print(\"Agente DQN inicializado. \")\n",
        "\n",
        "  elif tipo_agente == \"DQN Categorico (C51)\":\n",
        "    \n",
        "    # Define RNA-Q Categórico\n",
        "    categorical_q_net = categorical_q_network.CategoricalQNetwork(\n",
        "        train_env.observation_spec(),\n",
        "        train_env.action_spec(),\n",
        "        num_atoms=DQNCat_num_atoms,\n",
        "        preprocessing_layers=CNN_preprocessing_layers,\n",
        "        fc_layer_params=fc_layer_params)\n",
        "\n",
        "    optimizer = tf.compat.v1.train.AdamOptimizer(learning_rate=learning_rate)\n",
        "\n",
        "    train_step_counter = tf.compat.v2.Variable(0)\n",
        "    \n",
        "    # parámetros especificos (por defecto)\n",
        "    n_step_update = 2\n",
        "    gamma = 0.99\n",
        "\n",
        "    # Define el agente de tipo Q Categórico\n",
        "    ag = CategoricalDqnAgent(\n",
        "        train_env.time_step_spec(),\n",
        "        train_env.action_spec(),\n",
        "        categorical_q_network=categorical_q_net,\n",
        "        optimizer=optimizer,\n",
        "        n_step_update=n_step_update,\n",
        "        td_errors_loss_fn=common.element_wise_squared_loss,\n",
        "        gamma=gamma,\n",
        "        train_step_counter=train_step_counter)\n",
        "    \n",
        "    ag.initialize()\n",
        "    \n",
        "    print(\"Agente DQN Categorico (C51) inicializado. \")\n",
        "\n",
        "  elif tipo_agente == \"AtariCategoricalQNetwork\":\n",
        "    \n",
        "    # código copiado de https://github.com/jeffheaton/t81_558_deep_learning/blob/master/t81_558_class_12_04_atari.ipynb\n",
        "    from tf_agents.networks import q_network, network\n",
        "    from tf_agents.agents.categorical_dqn import categorical_dqn_agent\n",
        "    from tf_agents.networks import categorical_q_network\n",
        "    from tf_agents.specs import tensor_spec\n",
        "    import tensorflow as tf\n",
        "\n",
        "    # AtariPreprocessing runs 4 frames at a time, max-pooling over the last 2\n",
        "    # frames. We need to account for this when computing things like update\n",
        "    # intervals.\n",
        "    ATARI_FRAME_SKIP = 4\n",
        "\n",
        "    class AtariCategoricalQNetwork(network.Network):\n",
        "        \"\"\"CategoricalQNetwork subclass that divides observations by 255.\"\"\"\n",
        "\n",
        "        def __init__(self, input_tensor_spec, action_spec, **kwargs):\n",
        "            super(AtariCategoricalQNetwork, self).__init__(\n",
        "                input_tensor_spec, state_spec=())\n",
        "            input_tensor_spec = tf.TensorSpec(\n",
        "                dtype=tf.float32, shape=input_tensor_spec.shape)\n",
        "            self._categorical_q_network = \\\n",
        "                categorical_q_network.CategoricalQNetwork(\n",
        "                    input_tensor_spec, action_spec, **kwargs)\n",
        "\n",
        "        @property\n",
        "        def num_atoms(self):\n",
        "            return self._categorical_q_network.num_atoms\n",
        "\n",
        "        def call(self, observation, step_type=None, network_state=()):\n",
        "            state = tf.cast(observation, tf.float32)\n",
        "            # We divide the grayscale pixel values by 255 here rather than\n",
        "            # storing normalized values beause uint8s are 4x cheaper to\n",
        "            # store than float32s.\n",
        "            # TODO(b/129805821): handle the division by 255 for\n",
        "            # train_eval_atari.py in\n",
        "            # a preprocessing layer instead.\n",
        "            state = state / 255\n",
        "            return self._categorical_q_network(\n",
        "                state, step_type=step_type, network_state=network_state)\n",
        "    \n",
        "    fc_layer_params = (512,)\n",
        "    \n",
        "    #define las capas convolutional\n",
        "    if DQN_agregar_capa_cnn:    \n",
        "      conv_layer_params = ((32, (8, 8), 4), (64, (4, 4), 2), (64, (3, 3), 1))\n",
        "    else:\n",
        "      conv_layer_params = None\n",
        "\n",
        "    q_net = AtariCategoricalQNetwork(\n",
        "        train_env.observation_spec(),\n",
        "        train_env.action_spec(),\n",
        "        conv_layer_params=conv_layer_params,\n",
        "        fc_layer_params=fc_layer_params)\n",
        "\n",
        "    optimizer = tf.compat.v1.train.RMSPropOptimizer(\n",
        "        learning_rate=learning_rate,\n",
        "        decay=0.95,\n",
        "        momentum=0.0,\n",
        "        epsilon=0.00001,\n",
        "        centered=True)\n",
        "\n",
        "    train_step_counter = tf.Variable(0)\n",
        "\n",
        "    observation_spec = tensor_spec.from_spec(train_env.observation_spec())\n",
        "    time_step_spec = ts.time_step_spec(observation_spec)\n",
        "\n",
        "    action_spec = tensor_spec.from_spec(train_env.action_spec())\n",
        "    target_update_period = 32000  # ALE frames\n",
        "    update_period = 16  # ALE frames\n",
        "    _update_period = update_period / ATARI_FRAME_SKIP\n",
        "\n",
        "\n",
        "    ag = categorical_dqn_agent.CategoricalDqnAgent(\n",
        "        time_step_spec,\n",
        "        action_spec,\n",
        "        categorical_q_network=q_net,\n",
        "        optimizer=optimizer,\n",
        "        # epsilon_greedy=epsilon,\n",
        "        n_step_update=1.0,\n",
        "        target_update_tau=1.0,\n",
        "        target_update_period=(\n",
        "            target_update_period / ATARI_FRAME_SKIP / _update_period),\n",
        "        gamma=0.99,\n",
        "        reward_scale_factor=1.0,\n",
        "        gradient_clipping=None,\n",
        "        debug_summaries=False,\n",
        "        summarize_grads_and_vars=False)\n",
        "\n",
        "    ag.initialize()\n",
        "\n",
        "    print(\"Agente Atari Categorical Q-Network inicializado. \")\n",
        "else:\n",
        "  print(\"No se ejecuta entrenamiento de Agente DQN.\")  "
      ],
      "execution_count": 7,
      "outputs": [
        {
          "output_type": "stream",
          "name": "stdout",
          "text": [
            "Agente DQN Categorico (C51) inicializado. \n"
          ]
        }
      ]
    },
    {
      "cell_type": "code",
      "metadata": {
        "id": "b-G18iz7flcn",
        "cellView": "form",
        "colab": {
          "base_uri": "https://localhost:8080/"
        },
        "outputId": "9398d4c2-e568-4adb-bf1e-5a78665324f7"
      },
      "source": [
        "#@title Métricas para evaluación y Preparar datos para Entrenamiento del Agente DQN\n",
        "\n",
        "if entrenar_DQN:\n",
        "\n",
        "  # Definir Métricas para evaluación para Agente DQN\n",
        "    \n",
        "  # Se usa el promedio de la recompensa (la más común)\n",
        "  # See also the metrics module for standard implementations of different metrics.\n",
        "  # https://github.com/tensorflow/agents/tree/master/tf_agents/metrics\n",
        "\n",
        "  def compute_avg_return(environment, policy, num_episodes=10):\n",
        "    if num_episodes == 0:\n",
        "      return 0.0 \n",
        "    total_return = 0.0\n",
        "    for _ in range(num_episodes):\n",
        "\n",
        "      time_step = environment.reset()\n",
        "      episode_return = 0.0\n",
        "\n",
        "      while not time_step.is_last():\n",
        "        action_step = policy.action(time_step)\n",
        "        time_step = environment.step(action_step.action)\n",
        "        episode_return += time_step.reward\n",
        "      total_return += episode_return\n",
        "\n",
        "    avg_return = total_return / num_episodes\n",
        "    return avg_return.numpy()[0]\n",
        "\n",
        "  initial_collect_steps = 100  # @param {type:\"integer\"} \n",
        "  collect_steps_per_iteration =   50# @param {type:\"integer\"}\n",
        "  replay_buffer_max_length = 100000  # @param {type:\"integer\"}\n",
        "  batch_size = 32  # @param {type:\"integer\"}\n",
        "\n",
        "  # Define 'Replay Buffer' para que el agente recuerde las observaciones realizadas\n",
        "  replay_buffer = tf_uniform_replay_buffer.TFUniformReplayBuffer(\n",
        "      data_spec = ag.collect_data_spec,\n",
        "      batch_size = train_env.batch_size,\n",
        "      max_length = replay_buffer_max_length)\n",
        "\n",
        "  # Recolecta datos generados al azar\n",
        "  # This loop is so common in RL, that we provide standard implementations. \n",
        "  # For more details see the drivers module.\n",
        "  # https://www.tensorflow.org/agents/api_docs/python/tf_agents/drivers\n",
        "\n",
        "  def collect_step(environment, policy, buffer):\n",
        "    time_step = environment.current_time_step()\n",
        "    action_step = policy.action(time_step)\n",
        "    next_time_step = environment.step(action_step.action)\n",
        "    traj = trajectory.from_transition(time_step, action_step, next_time_step)\n",
        "\n",
        "    # Add trajectory to the replay buffer\n",
        "    buffer.add_batch(traj)\n",
        "\n",
        "  def collect_data(env, policy, buffer, steps):\n",
        "    for _ in range(steps):\n",
        "      collect_step(env, policy, buffer)\n",
        "\n",
        "  collect_data(train_env, random_policy, replay_buffer, initial_collect_steps)\n",
        "\n",
        "  print(\"\\nDatos recolectados.\")\n",
        "\n",
        "  # Muestra ejemplo de los datos recolectados\n",
        "  ##iter(replay_buffer.as_dataset()).next()\n",
        "\n",
        "  # Preparar los datos recolectados con trajectories de shape [Bx2x...]\n",
        "  dataset = replay_buffer.as_dataset(\n",
        "      num_parallel_calls=3, \n",
        "      sample_batch_size=batch_size, \n",
        "      num_steps=2).prefetch(3)\n",
        "  iterator = iter(dataset)\n",
        "  # Muestra ejemplo \n",
        "  ##iterator.next()\n",
        "  print(\"\\nDataset creado.\")\n",
        "else:\n",
        "  print(\"No se ejecuta entrenamiento de Agente DQN.\")  "
      ],
      "execution_count": 8,
      "outputs": [
        {
          "output_type": "stream",
          "name": "stderr",
          "text": [
            "WARNING:tensorflow:From /usr/local/lib/python3.7/dist-packages/tensorflow/python/autograph/impl/api.py:377: ReplayBuffer.get_next (from tf_agents.replay_buffers.replay_buffer) is deprecated and will be removed in a future version.\n",
            "Instructions for updating:\n",
            "Use `as_dataset(..., single_deterministic_pass=False) instead.\n"
          ]
        },
        {
          "output_type": "stream",
          "name": "stdout",
          "text": [
            "\n",
            "Datos recolectados.\n",
            "\n",
            "Dataset creado.\n"
          ]
        }
      ]
    },
    {
      "cell_type": "code",
      "source": [
        "#@title Entrenar al Agente DQN\n",
        "\n",
        "if entrenar_DQN:\n",
        "\n",
        "  cant_ciclos_entrenamiento_finalizar =  100# @param {type:\"integer\"}\n",
        "  log_cada_ciclos = 30  # @param {type:\"integer\"}\n",
        "  mostar_recompensa_cada = 50  # @param {type:\"integer\"}\n",
        "  cant_episodios_evaluacion =  10# @param {type:\"integer\"}\n",
        "  minima_recompensa_promedio_finalizar = 1000 # @param {type:\"number\"}\n",
        "  \n",
        "  #  Optimize by wrapping some of the code in a graph using TF function (Optional)\n",
        "  ag.train = common.function(ag.train)\n",
        "\n",
        "  # Reset the train step\n",
        "  ag.train_step_counter.assign(0)\n",
        "\n",
        "  # Evaluate the agent's policy once before training.\n",
        "  avg_return = compute_avg_return(eval_env, ag.policy, cant_episodios_evaluacion)\n",
        "  ar_cicloL = []\n",
        "  ar_cicloR = []\n",
        "  ar_returns = []\n",
        "  ar_loss = []\n",
        "\n",
        "  print(\"\\n** Comienza el Entrenamiento **\\n\")\n",
        "  for _ in range(cant_ciclos_entrenamiento_finalizar):\n",
        "\n",
        "    # Collect a few steps using collect_policy and save to the replay buffer.\n",
        "    collect_data(train_env, ag.collect_policy, replay_buffer, collect_steps_per_iteration)\n",
        "\n",
        "    # Sample a batch of data from the buffer and update the agent's network.\n",
        "    experience, unused_info = next(iterator)\n",
        "    train_loss = ag.train(experience).loss\n",
        "\n",
        "    step = ag.train_step_counter.numpy()\n",
        "\n",
        "    if (step == 1) or (step == cant_ciclos_entrenamiento_finalizar) or (step % log_cada_ciclos == 0):\n",
        "      print('step = {0}: loss = {1:.3f}'.format(step, train_loss))    \n",
        "      ar_cicloL.append( step )\n",
        "      ar_loss.append( train_loss )\n",
        "    \n",
        "    if (step == 1) or (step == cant_ciclos_entrenamiento_finalizar) or (step % mostar_recompensa_cada == 0):\n",
        "      avg_return = compute_avg_return(eval_env, ag.policy, cant_episodios_evaluacion)\n",
        "      ar_cicloR.append( step )\n",
        "      ar_returns.append( avg_return )\n",
        "      print('step = {0}: Promedio Recompensa = {1:.1f}'.format(step, avg_return))\n",
        "\n",
        "      if (avg_return >= minima_recompensa_promedio_finalizar):\n",
        "        print('** Finaliza en step {0} por buen valor de recompensa promedio: {1:.1f}'.format(step, avg_return)) \n",
        "        break\n",
        "\n",
        "  DQNpolicy = ag.policy\n",
        "  print(\"\\n** Entrenamiento Finalizado **\\n\")\n",
        "else:\n",
        "  print(\"No se ejecuta entrenamiento de Agente DQN.\")  "
      ],
      "metadata": {
        "cellView": "form",
        "id": "LQbSlCJW8BeN",
        "colab": {
          "base_uri": "https://localhost:8080/"
        },
        "outputId": "35723191-f14f-4247-bbbb-2d2fa6e4bcc8"
      },
      "execution_count": 9,
      "outputs": [
        {
          "output_type": "stream",
          "name": "stdout",
          "text": [
            "\n",
            "** Comienza el Entrenamiento **\n",
            "\n"
          ]
        },
        {
          "output_type": "stream",
          "name": "stderr",
          "text": [
            "WARNING:tensorflow:From /usr/local/lib/python3.7/dist-packages/tensorflow/python/util/dispatch.py:1176: calling foldr_v2 (from tensorflow.python.ops.functional_ops) with back_prop=False is deprecated and will be removed in a future version.\n",
            "Instructions for updating:\n",
            "back_prop=False is deprecated. Consider using tf.stop_gradient instead.\n",
            "Instead of:\n",
            "results = tf.foldr(fn, elems, back_prop=False)\n",
            "Use:\n",
            "results = tf.nest.map_structure(tf.stop_gradient, tf.foldr(fn, elems))\n"
          ]
        },
        {
          "output_type": "stream",
          "name": "stdout",
          "text": [
            "step = 1: loss = 9.524\n",
            "step = 1: Promedio Recompensa = -20.8\n",
            "step = 30: loss = 3.932\n",
            "step = 50: Promedio Recompensa = -21.0\n",
            "step = 60: loss = 3.931\n",
            "step = 90: loss = 3.932\n",
            "step = 100: loss = 3.931\n",
            "step = 100: Promedio Recompensa = -21.0\n",
            "\n",
            "** Entrenamiento Finalizado **\n",
            "\n"
          ]
        }
      ]
    },
    {
      "cell_type": "code",
      "metadata": {
        "cellView": "form",
        "id": "9EBBl7mRkQYa",
        "colab": {
          "base_uri": "https://localhost:8080/",
          "height": 683
        },
        "outputId": "f51edd05-c270-49d0-efac-6e70dc22e67b"
      },
      "source": [
        "#@title Mostrar Gráficos del Entrenamiento del Agente DQN\n",
        "\n",
        "\n",
        "if entrenar_DQN:\n",
        "\n",
        "  plt.figure(figsize=(12,5)) \n",
        "  plt.plot( ar_cicloR, ar_returns)\n",
        "  plt.title(\"Resultados del Entrenamiento del Agente - Promedio Recompensa\")\n",
        "  #plt.legend(['Promedio Recompensa', 'Loss de Entrenamiento'], loc='upper right')\n",
        "  plt.ylabel('Valor')\n",
        "  plt.xlabel('Ciclo')\n",
        "  plt.xlim(right=max(ar_cicloR))   \n",
        "  plt.grid(True)\n",
        "  plt.show()\n",
        "\n",
        "  plt.figure(figsize=(12,5)) \n",
        "  plt.plot( ar_cicloL, ar_loss, color=\"red\" )\n",
        "  plt.title(\"Resultados del Entrenamiento del Agente - Loss de Entrenamiento\")\n",
        "  #plt.legend(['Promedio Recompensa', 'Loss de Entrenamiento'], loc='upper right')\n",
        "  plt.ylabel('Valor')\n",
        "  plt.xlabel('Ciclo')\n",
        "  plt.xlim(right=max(ar_cicloL))   \n",
        "  plt.grid(True)\n",
        "  plt.show()\n"
      ],
      "execution_count": 10,
      "outputs": [
        {
          "output_type": "display_data",
          "data": {
            "text/plain": [
              "<Figure size 864x360 with 1 Axes>"
            ],
            "image/png": "[encoded data removed]"
          },
          "metadata": {
            "needs_background": "light"
          }
        },
        {
          "output_type": "display_data",
          "data": {
            "text/plain": [
              "<Figure size 864x360 with 1 Axes>"
            ],
            "image/png": "[encoded data removed]"
          },
          "metadata": {
            "needs_background": "light"
          }
        }
      ]
    },
    {
      "cell_type": "code",
      "metadata": {
        "cellView": "form",
        "id": "IjAkgViOJI-e",
        "colab": {
          "base_uri": "https://localhost:8080/",
          "height": 591
        },
        "outputId": "c4377b9c-dfa0-40c3-8aad-8c821d420244"
      },
      "source": [
        "#@title Probar el Agente DQN Entrenado \n",
        "\n",
        "generar_animacion_policy(eval_env, eval_py_env, DQNpolicy, \"DQNpolicy\", True, 1)"
      ],
      "execution_count": 11,
      "outputs": [
        {
          "output_type": "stream",
          "name": "stderr",
          "text": [
            "WARNING:root:IMAGEIO FFMPEG_WRITER WARNING: input image is not divisible by macro_block_size=16, resizing from (210, 160) to (224, 160) to ensure video compatibility with most codecs and players. To prevent resizing, make your input image divisible by the macro_block_size or set the macro_block_size to None (risking incompatibility). You may also see a FFMPEG warning concerning speedloss due to data not being aligned.\n"
          ]
        },
        {
          "output_type": "stream",
          "name": "stdout",
          "text": [
            "Generando...\n",
            "Recompensa Acumulada:  -21.0\n",
            "Recompensa Final:  0.0\n"
          ]
        },
        {
          "output_type": "execute_result",
          "data": {
            "text/plain": [
              "<IPython.core.display.HTML object>"
            ],
            "text/html": [
              "\n",
              "  <div align=\"middle\">\n",
              "  <video width=\"640\" height=\"480\" controls>\n",
              "    <source src=\"data:video/mp4;base64,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\" type=\"video/mp4\">\n",
              "  Your browser does not support the video tag.\n",
              "  </video></div>"
            ]
          },
          "metadata": {},
          "execution_count": 11
        }
      ]
    },
    {
      "cell_type": "code",
      "source": [
        "#@title Cargar o Guardar el Agente DQN entrenado\n",
        "\n",
        "# parámetros\n",
        "directorio_modelo = '/content/gdrive/MyDrive/IA/demoRL/Modelos' #@param {type:\"string\"}\n",
        "nombre_modelo_grabar = \"policy-Atari\" #@param {type:\"string\"}\n",
        "accion_realizar = \"-\" #@param [\"-\", \"Cargar Modelo\", \"Grabar Modelo\"]\n",
        "\n",
        "if accion_realizar != \"-\":\n",
        "  import os\n",
        "  from google.colab import drive\n",
        "  from tf_agents.policies import TFPolicy, policy_saver\n",
        "  # determina lugar donde se guarda el modelo\n",
        "  policy_dir = os.path.join(directorio_modelo, nombre_modelo_grabar)\n",
        "  policy_dir = os.path.join(policy_dir, gym_env_name)\n",
        "  # Montar Drive\n",
        "  drive.mount('/content/gdrive')\n",
        "if accion_realizar == \"Grabar Modelo\":\n",
        "  if (DQNpolicy is not None) and isinstance(DQNpolicy, TFPolicy):\n",
        "    # guarda la politica del agente DQN entrenado\n",
        "    tf_policy_saver = policy_saver.PolicySaver(DQNpolicy)\n",
        "    tf_policy_saver.save(policy_dir)\n",
        "    print(\"\\nPolítica DQN guardada en \", policy_dir)\n",
        "elif accion_realizar == \"Cargar Modelo\":\n",
        "  # carga la política del modelo\n",
        "  DQNpolicy = tf.compat.v2.saved_model.load(policy_dir)\n",
        "  print(\"\\nPolítica DQN recuperada de \", policy_dir)\n"
      ],
      "metadata": {
        "cellView": "form",
        "id": "XTTpaVBfBOGi"
      },
      "execution_count": 12,
      "outputs": []
    }
  ]
}
